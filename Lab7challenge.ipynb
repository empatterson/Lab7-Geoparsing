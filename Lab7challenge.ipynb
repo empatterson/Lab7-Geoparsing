{
  "nbformat": 4,
  "nbformat_minor": 0,
  "metadata": {
    "colab": {
      "name": "Lab7challenge.ipynb",
      "provenance": [],
      "authorship_tag": "ABX9TyMP7rNvN8auIolJoOZJFYnh",
      "include_colab_link": true
    },
    "kernelspec": {
      "name": "python3",
      "display_name": "Python 3"
    },
    "language_info": {
      "name": "python"
    }
  },
  "cells": [
    {
      "cell_type": "markdown",
      "metadata": {
        "id": "view-in-github",
        "colab_type": "text"
      },
      "source": [
        "<a href=\"https://colab.research.google.com/github/empatterson/Lab7-Geoparsing/blob/main/Lab7challenge.ipynb\" target=\"_parent\"><img src=\"https://colab.research.google.com/assets/colab-badge.svg\" alt=\"Open In Colab\"/></a>"
      ]
    },
    {
      "cell_type": "code",
      "metadata": {
        "colab": {
          "base_uri": "https://localhost:8080/",
          "height": 52
        },
        "id": "EwCou_DzMOK_",
        "outputId": "9ebb03e2-7b05-4c20-b30b-4e34e5a1fdc0"
      },
      "source": [
        "'''\n",
        "Emily Patterson\n",
        "5/28/21\n",
        "Python 3.7.10\n",
        "This code extracts city names from a .txt file creates a histogram of the cities\n",
        "and then plots the locations on a map. \n",
        "\n"
      ],
      "execution_count": 3,
      "outputs": [
        {
          "output_type": "execute_result",
          "data": {
            "application/vnd.google.colaboratory.intrinsic+json": {
              "type": "string"
            },
            "text/plain": [
              "'\\nEmily Patterson\\n5/28/21\\nPython 3.7.10\\nThis code extracts city names from a .txt file creates a histogram of the cities\\nand then plots the locations on a map. '"
            ]
          },
          "metadata": {
            "tags": []
          },
          "execution_count": 3
        }
      ]
    },
    {
      "cell_type": "code",
      "metadata": {
        "colab": {
          "base_uri": "https://localhost:8080/"
        },
        "id": "wBiacC_gL_q9",
        "outputId": "d2d399a4-08f0-430d-f5ab-fd7345f4af3b"
      },
      "source": [
        "# Install packages as needed\n",
        "!pip install geopandas\n",
        "!pip install geotext\n",
        "!pip install numpy geotext\n",
        "!pip install matplotlib\n",
        "!pip install geopy\n",
        "!pip install shapely\n",
        "!pip install descartes\n",
        "!pip install nltk\n",
        "\n",
        "# Importing all the libraries \n",
        "import geopandas as gpd\n",
        "import pandas as pd\n",
        "import nltk\n",
        "import numpy as np\n",
        "import matplotlib.pyplot as plt\n",
        "import urllib.request\n",
        "import descartes\n",
        "\n",
        "from urllib import request\n",
        "from geotext import GeoText\n",
        "from geopy.geocoders import Nominatim\n",
        "from geopy.exc import GeocoderTimedOut\n",
        "from shapely.geometry import Point, Polygon"
      ],
      "execution_count": 4,
      "outputs": [
        {
          "output_type": "stream",
          "text": [
            "Requirement already satisfied: geopandas in /usr/local/lib/python3.7/dist-packages (0.9.0)\n",
            "Requirement already satisfied: pandas>=0.24.0 in /usr/local/lib/python3.7/dist-packages (from geopandas) (1.1.5)\n",
            "Requirement already satisfied: pyproj>=2.2.0 in /usr/local/lib/python3.7/dist-packages (from geopandas) (3.1.0)\n",
            "Requirement already satisfied: fiona>=1.8 in /usr/local/lib/python3.7/dist-packages (from geopandas) (1.8.19)\n",
            "Requirement already satisfied: shapely>=1.6 in /usr/local/lib/python3.7/dist-packages (from geopandas) (1.7.1)\n",
            "Requirement already satisfied: pytz>=2017.2 in /usr/local/lib/python3.7/dist-packages (from pandas>=0.24.0->geopandas) (2018.9)\n",
            "Requirement already satisfied: numpy>=1.15.4 in /usr/local/lib/python3.7/dist-packages (from pandas>=0.24.0->geopandas) (1.19.5)\n",
            "Requirement already satisfied: python-dateutil>=2.7.3 in /usr/local/lib/python3.7/dist-packages (from pandas>=0.24.0->geopandas) (2.8.1)\n",
            "Requirement already satisfied: certifi in /usr/local/lib/python3.7/dist-packages (from pyproj>=2.2.0->geopandas) (2020.12.5)\n",
            "Requirement already satisfied: cligj>=0.5 in /usr/local/lib/python3.7/dist-packages (from fiona>=1.8->geopandas) (0.7.1)\n",
            "Requirement already satisfied: munch in /usr/local/lib/python3.7/dist-packages (from fiona>=1.8->geopandas) (2.5.0)\n",
            "Requirement already satisfied: click<8,>=4.0 in /usr/local/lib/python3.7/dist-packages (from fiona>=1.8->geopandas) (7.1.2)\n",
            "Requirement already satisfied: six>=1.7 in /usr/local/lib/python3.7/dist-packages (from fiona>=1.8->geopandas) (1.15.0)\n",
            "Requirement already satisfied: click-plugins>=1.0 in /usr/local/lib/python3.7/dist-packages (from fiona>=1.8->geopandas) (1.1.1)\n",
            "Requirement already satisfied: attrs>=17 in /usr/local/lib/python3.7/dist-packages (from fiona>=1.8->geopandas) (21.2.0)\n",
            "Requirement already satisfied: geotext in /usr/local/lib/python3.7/dist-packages (0.4.0)\n",
            "Requirement already satisfied: numpy in /usr/local/lib/python3.7/dist-packages (1.19.5)\n",
            "Requirement already satisfied: geotext in /usr/local/lib/python3.7/dist-packages (0.4.0)\n",
            "Requirement already satisfied: matplotlib in /usr/local/lib/python3.7/dist-packages (3.2.2)\n",
            "Requirement already satisfied: numpy>=1.11 in /usr/local/lib/python3.7/dist-packages (from matplotlib) (1.19.5)\n",
            "Requirement already satisfied: cycler>=0.10 in /usr/local/lib/python3.7/dist-packages (from matplotlib) (0.10.0)\n",
            "Requirement already satisfied: python-dateutil>=2.1 in /usr/local/lib/python3.7/dist-packages (from matplotlib) (2.8.1)\n",
            "Requirement already satisfied: kiwisolver>=1.0.1 in /usr/local/lib/python3.7/dist-packages (from matplotlib) (1.3.1)\n",
            "Requirement already satisfied: pyparsing!=2.0.4,!=2.1.2,!=2.1.6,>=2.0.1 in /usr/local/lib/python3.7/dist-packages (from matplotlib) (2.4.7)\n",
            "Requirement already satisfied: six in /usr/local/lib/python3.7/dist-packages (from cycler>=0.10->matplotlib) (1.15.0)\n",
            "Requirement already satisfied: geopy in /usr/local/lib/python3.7/dist-packages (1.17.0)\n",
            "Requirement already satisfied: geographiclib<2,>=1.49 in /usr/local/lib/python3.7/dist-packages (from geopy) (1.50)\n",
            "Requirement already satisfied: shapely in /usr/local/lib/python3.7/dist-packages (1.7.1)\n",
            "Requirement already satisfied: descartes in /usr/local/lib/python3.7/dist-packages (1.1.0)\n",
            "Requirement already satisfied: matplotlib in /usr/local/lib/python3.7/dist-packages (from descartes) (3.2.2)\n",
            "Requirement already satisfied: kiwisolver>=1.0.1 in /usr/local/lib/python3.7/dist-packages (from matplotlib->descartes) (1.3.1)\n",
            "Requirement already satisfied: pyparsing!=2.0.4,!=2.1.2,!=2.1.6,>=2.0.1 in /usr/local/lib/python3.7/dist-packages (from matplotlib->descartes) (2.4.7)\n",
            "Requirement already satisfied: numpy>=1.11 in /usr/local/lib/python3.7/dist-packages (from matplotlib->descartes) (1.19.5)\n",
            "Requirement already satisfied: python-dateutil>=2.1 in /usr/local/lib/python3.7/dist-packages (from matplotlib->descartes) (2.8.1)\n",
            "Requirement already satisfied: cycler>=0.10 in /usr/local/lib/python3.7/dist-packages (from matplotlib->descartes) (0.10.0)\n",
            "Requirement already satisfied: six>=1.5 in /usr/local/lib/python3.7/dist-packages (from python-dateutil>=2.1->matplotlib->descartes) (1.15.0)\n",
            "Requirement already satisfied: nltk in /usr/local/lib/python3.7/dist-packages (3.2.5)\n",
            "Requirement already satisfied: six in /usr/local/lib/python3.7/dist-packages (from nltk) (1.15.0)\n"
          ],
          "name": "stdout"
        }
      ]
    },
    {
      "cell_type": "code",
      "metadata": {
        "colab": {
          "base_uri": "https://localhost:8080/"
        },
        "id": "c1TQRaJBN9D6",
        "outputId": "20c8c63c-07cd-4e79-848c-6598ae5d4d12"
      },
      "source": [
        "#Scrape the text from a url (Project Gutenberg website)\n",
        "\n",
        "url = 'https://www.gutenberg.org/files/829/829-0.txt'\n",
        "response = request.urlopen(url)\n",
        "raw = response.read().decode('utf8')\n",
        "print(f'{type(raw)}, \\n{len(raw)}, \\n{raw[:73]}')"
      ],
      "execution_count": 24,
      "outputs": [
        {
          "output_type": "stream",
          "text": [
            "<class 'str'>, \n",
            "611764, \n",
            "﻿The Project Gutenberg eBook of Gulliver’s Travels, by Jonathan Swift\r\n",
            "\r\n",
            "\n"
          ],
          "name": "stdout"
        }
      ]
    },
    {
      "cell_type": "code",
      "metadata": {
        "colab": {
          "base_uri": "https://localhost:8080/"
        },
        "id": "3hkGFGtgO6hy",
        "outputId": "569684d4-f93f-474e-cd07-489e35580138"
      },
      "source": [
        "#use Geotext to extraxt city names from the txt file\n",
        "places = GeoText(raw)\n",
        "cities = list(places.cities)\n",
        "#Calling this shows my list of cities\n",
        "cities "
      ],
      "execution_count": 10,
      "outputs": [
        {
          "output_type": "execute_result",
          "data": {
            "text/plain": [
              "['Most',\n",
              " 'Newark',\n",
              " 'Banbury',\n",
              " 'Oxford',\n",
              " 'Smithfield',\n",
              " 'London',\n",
              " 'Cambridge',\n",
              " 'London',\n",
              " 'London',\n",
              " 'Prichard',\n",
              " 'Antelope',\n",
              " 'Bristol',\n",
              " 'Of',\n",
              " 'Of',\n",
              " 'Of',\n",
              " 'Providence',\n",
              " 'Providence',\n",
              " 'Of',\n",
              " 'Van',\n",
              " 'Diemen',\n",
              " 'Epping',\n",
              " 'Liverpool',\n",
              " 'March',\n",
              " 'Chelsea',\n",
              " 'London',\n",
              " 'London',\n",
              " 'London',\n",
              " 'Dunstable',\n",
              " 'Gresham',\n",
              " 'Salisbury',\n",
              " 'Bristol',\n",
              " 'Versailles',\n",
              " 'Of',\n",
              " 'Cicero',\n",
              " 'Venice',\n",
              " 'Hopewell',\n",
              " 'George',\n",
              " 'Of',\n",
              " 'Most',\n",
              " 'Of',\n",
              " 'London',\n",
              " 'Bristol',\n",
              " 'Portsmouth',\n",
              " 'Hannibal',\n",
              " 'Rome',\n",
              " 'Roman',\n",
              " 'Roman',\n",
              " 'Antony',\n",
              " 'Rome',\n",
              " 'Rome',\n",
              " 'Amsterdam',\n",
              " 'Amsterdam',\n",
              " 'Amsterdam',\n",
              " 'Holland',\n",
              " 'Holland',\n",
              " 'Holland',\n",
              " 'Amsterdam',\n",
              " 'Amsterdam',\n",
              " 'Portsmouth',\n",
              " 'Bristol',\n",
              " 'Orange',\n",
              " 'Alliance',\n",
              " 'Of',\n",
              " 'Lisbon',\n",
              " 'Lisbon',\n",
              " 'Lisbon',\n",
              " 'Lisbon',\n",
              " 'London',\n",
              " 'Of',\n",
              " 'Mission',\n",
              " 'Salt Lake',\n",
              " 'Most']"
            ]
          },
          "metadata": {
            "tags": []
          },
          "execution_count": 10
        }
      ]
    },
    {
      "cell_type": "code",
      "metadata": {
        "colab": {
          "base_uri": "https://localhost:8080/"
        },
        "id": "CNSLQ4FGPO63",
        "outputId": "aea8d884-ae65-46cb-c191-26678f0e00d3"
      },
      "source": [
        "#This code uses the OSM Nominatim tool to reverse geocode locations\n",
        "# requires your e-mail address to track usage. Timeout set for 2 seconds.\n",
        "geolocator = Nominatim(user_agent='empattersonclarku@gmail.com', timeout=2)\n",
        "lat_lon = []\n",
        "for city in cities:\n",
        "  try:\n",
        "    location = geolocator.geocode(city)\n",
        "    if location:\n",
        "      # If you want to see only lat/lon as they process you can include the following code here but I found it added a lot of time to the operation: print(location.latitude, location.longitude)\n",
        "      lat_lon.append(location)\n",
        "  except GeocoderTimedOut as e:\n",
        "    print(\"Error: geocode failed on input %s with message %s\">\n",
        "          (city, e))\n",
        "lat_lon"
      ],
      "execution_count": 14,
      "outputs": [
        {
          "output_type": "execute_result",
          "data": {
            "text/plain": [
              "[Location(Most, okres Most, Ústecký kraj, Severozápad, Česko, (50.5032737, 13.636112, 0.0)),\n",
              " Location(Newark, Essex County, New Jersey, United States, (40.735657, -74.1723667, 0.0)),\n",
              " Location(Banbury, Cherwell, Oxfordshire, South East England, England, OX16 0AA, United Kingdom, (52.0601807, -1.3402795, 0.0)),\n",
              " Location(Oxford, Chester County, Pennsylvania, 19363, United States, (39.7852062, -75.9790215, 0.0)),\n",
              " Location(Smithfield, Johnston County, North Carolina, 27577, United States, (35.5085531, -78.33936, 0.0)),\n",
              " Location(London, Greater London, England, United Kingdom, (51.5073219, -0.1276474, 0.0)),\n",
              " Location(Cambridge, Cambridgeshire, East of England, England, United Kingdom, (52.2034823, 0.1235817, 0.0)),\n",
              " Location(London, Greater London, England, United Kingdom, (51.5073219, -0.1276474, 0.0)),\n",
              " Location(London, Greater London, England, United Kingdom, (51.5073219, -0.1276474, 0.0)),\n",
              " Location(Prichard, Mobile County, Alabama, United States, (30.7387998, -88.0788889, 0.0)),\n",
              " Location(Antelope County, Nebraska, United States, (42.1864809, -98.0716943, 0.0)),\n",
              " Location(Bristol, City of Bristol, South West England, England, United Kingdom, (51.4538022, -2.5972985, 0.0)),\n",
              " Location(Of, Trabzon, Karadeniz Bölgesi, 61830, Türkiye, (40.881735899999995, 40.27544376928809, 0.0)),\n",
              " Location(Of, Trabzon, Karadeniz Bölgesi, 61830, Türkiye, (40.881735899999995, 40.27544376928809, 0.0)),\n",
              " Location(Of, Trabzon, Karadeniz Bölgesi, 61830, Türkiye, (40.881735899999995, 40.27544376928809, 0.0)),\n",
              " Location(Providence, Providence County, Rhode Island, United States, (41.8239891, -71.4128343, 0.0)),\n",
              " Location(Providence, Providence County, Rhode Island, United States, (41.8239891, -71.4128343, 0.0)),\n",
              " Location(Of, Trabzon, Karadeniz Bölgesi, 61830, Türkiye, (40.881735899999995, 40.27544376928809, 0.0)),\n",
              " Location(Việt Nam, (13.2904027, 108.4265113, 0.0)),\n",
              " Location(Diemen, Amsterdam, Noord-Holland, Nederland, (52.3350493, 4.984282926187014, 0.0)),\n",
              " Location(Epping, Sarreguemines, Moselle, Grand Est, France métropolitaine, 57720, France, (49.1129518, 7.3162243, 0.0)),\n",
              " Location(Liverpool, North West England, England, United Kingdom, (53.4071991, -2.99168, 0.0)),\n",
              " Location(March, GVV March-Umkirch, Landkreis Breisgau-Hochschwarzwald, Baden-Württemberg, 79232, Deutschland, (48.0578573, 7.7790038, 0.0)),\n",
              " Location(Chelsea, Royal Borough of Kensington and Chelsea, London, Greater London, England, SW3 5UA, United Kingdom, (51.4875167, -0.1687007, 0.0)),\n",
              " Location(London, Greater London, England, United Kingdom, (51.5073219, -0.1276474, 0.0)),\n",
              " Location(London, Greater London, England, United Kingdom, (51.5073219, -0.1276474, 0.0)),\n",
              " Location(London, Greater London, England, United Kingdom, (51.5073219, -0.1276474, 0.0)),\n",
              " Location(Dunstable, Central Bedfordshire, East of England, England, LU6 1JU, United Kingdom, (51.8861316, -0.5209341, 0.0)),\n",
              " Location(Gresham, Metro, Multnomah County, Oregon, United States, (45.4997475, -122.4309766, 0.0)),\n",
              " Location(Salisbury, Wiltshire, South West England, England, United Kingdom, (51.0690613, -1.7954134, 0.0)),\n",
              " Location(Bristol, City of Bristol, South West England, England, United Kingdom, (51.4538022, -2.5972985, 0.0)),\n",
              " Location(Versailles, Yvelines, Île-de-France, France métropolitaine, 78000, France, (48.8035403, 2.1266886, 0.0)),\n",
              " Location(Of, Trabzon, Karadeniz Bölgesi, 61830, Türkiye, (40.881735899999995, 40.27544376928809, 0.0)),\n",
              " Location(Cicero, Cook County, Illinois, 60804, United States, (41.8455398, -87.7540199, 0.0)),\n",
              " Location(Venezia, Veneto, Italia, (45.4371908, 12.3345898, 0.0)),\n",
              " Location(Hopewell, Virginia, United States, (37.3043154, -77.2872001, 0.0)),\n",
              " Location(George, George Local Municipality, Garden Route District Municipality, Western Cape, 6529, South Africa, (-33.964444, 22.459722, 0.0)),\n",
              " Location(Of, Trabzon, Karadeniz Bölgesi, 61830, Türkiye, (40.881735899999995, 40.27544376928809, 0.0)),\n",
              " Location(Most, okres Most, Ústecký kraj, Severozápad, Česko, (50.5032737, 13.636112, 0.0)),\n",
              " Location(Of, Trabzon, Karadeniz Bölgesi, 61830, Türkiye, (40.881735899999995, 40.27544376928809, 0.0)),\n",
              " Location(London, Greater London, England, United Kingdom, (51.5073219, -0.1276474, 0.0)),\n",
              " Location(Bristol, City of Bristol, South West England, England, United Kingdom, (51.4538022, -2.5972985, 0.0)),\n",
              " Location(Portsmouth, South East England, England, United Kingdom, (50.8036831, -1.075614, 0.0)),\n",
              " Location(Hannibal, Marion County, Missouri, 63401, United States, (39.7082498, -91.3587413, 0.0)),\n",
              " Location(Roma, Roma Capitale, Lazio, Italia, (41.8933203, 12.4829321, 0.0)),\n",
              " Location(Roman, Mesnils-sur-Iton, Bernay, Eure, Normandie, France métropolitaine, 27240, France, (48.836297599999995, 1.047626206618487, 0.0)),\n",
              " Location(Roman, Mesnils-sur-Iton, Bernay, Eure, Normandie, France métropolitaine, 27240, France, (48.836297599999995, 1.047626206618487, 0.0)),\n",
              " Location(Antony, Hauts-de-Seine, Île-de-France, France métropolitaine, 92160, France, (48.753554, 2.2959423, 0.0)),\n",
              " Location(Roma, Roma Capitale, Lazio, Italia, (41.8933203, 12.4829321, 0.0)),\n",
              " Location(Roma, Roma Capitale, Lazio, Italia, (41.8933203, 12.4829321, 0.0)),\n",
              " Location(Amsterdam, Noord-Holland, Nederland, (52.3727598, 4.8936041, 0.0)),\n",
              " Location(Amsterdam, Noord-Holland, Nederland, (52.3727598, 4.8936041, 0.0)),\n",
              " Location(Amsterdam, Noord-Holland, Nederland, (52.3727598, 4.8936041, 0.0)),\n",
              " Location(Nederland, (52.5001698, 5.7480821, 0.0)),\n",
              " Location(Nederland, (52.5001698, 5.7480821, 0.0)),\n",
              " Location(Nederland, (52.5001698, 5.7480821, 0.0)),\n",
              " Location(Amsterdam, Noord-Holland, Nederland, (52.3727598, 4.8936041, 0.0)),\n",
              " Location(Amsterdam, Noord-Holland, Nederland, (52.3727598, 4.8936041, 0.0)),\n",
              " Location(Portsmouth, South East England, England, United Kingdom, (50.8036831, -1.075614, 0.0)),\n",
              " Location(Bristol, City of Bristol, South West England, England, United Kingdom, (51.4538022, -2.5972985, 0.0)),\n",
              " Location(Orange County, California, United States, (33.7500378, -117.8704931, 0.0)),\n",
              " Location(Alliance, Box Butte County, Nebraska, 69301, United States, (42.0971897, -102.8707145, 0.0)),\n",
              " Location(Of, Trabzon, Karadeniz Bölgesi, 61830, Türkiye, (40.881735899999995, 40.27544376928809, 0.0)),\n",
              " Location(Lisboa, Grande Lisboa, Área Metropolitana de Lisboa, Portugal, (38.7077507, -9.1365919, 0.0)),\n",
              " Location(Lisboa, Grande Lisboa, Área Metropolitana de Lisboa, Portugal, (38.7077507, -9.1365919, 0.0)),\n",
              " Location(Lisboa, Grande Lisboa, Área Metropolitana de Lisboa, Portugal, (38.7077507, -9.1365919, 0.0)),\n",
              " Location(Lisboa, Grande Lisboa, Área Metropolitana de Lisboa, Portugal, (38.7077507, -9.1365919, 0.0)),\n",
              " Location(London, Greater London, England, United Kingdom, (51.5073219, -0.1276474, 0.0)),\n",
              " Location(Of, Trabzon, Karadeniz Bölgesi, 61830, Türkiye, (40.881735899999995, 40.27544376928809, 0.0)),\n",
              " Location(Mission, Hidalgo County, Texas, United States, (26.2159066, -98.3252932, 0.0)),\n",
              " Location(Salt Lake County, Utah, United States, (40.6632297, -111.9103124, 0.0)),\n",
              " Location(Most, okres Most, Ústecký kraj, Severozápad, Česko, (50.5032737, 13.636112, 0.0))]"
            ]
          },
          "metadata": {
            "tags": []
          },
          "execution_count": 14
        }
      ]
    },
    {
      "cell_type": "code",
      "metadata": {
        "colab": {
          "base_uri": "https://localhost:8080/",
          "height": 266
        },
        "id": "y7bjMEy3Rclc",
        "outputId": "3a9e28cd-2d94-4403-9ab8-800309faeeae"
      },
      "source": [
        "#transform the data into a datafram \n",
        "df = pd.DataFrame(lat_lon, columns=['City Name', 'Coordinates'])\n",
        "df.head(7)"
      ],
      "execution_count": 16,
      "outputs": [
        {
          "output_type": "execute_result",
          "data": {
            "text/html": [
              "<div>\n",
              "<style scoped>\n",
              "    .dataframe tbody tr th:only-of-type {\n",
              "        vertical-align: middle;\n",
              "    }\n",
              "\n",
              "    .dataframe tbody tr th {\n",
              "        vertical-align: top;\n",
              "    }\n",
              "\n",
              "    .dataframe thead th {\n",
              "        text-align: right;\n",
              "    }\n",
              "</style>\n",
              "<table border=\"1\" class=\"dataframe\">\n",
              "  <thead>\n",
              "    <tr style=\"text-align: right;\">\n",
              "      <th></th>\n",
              "      <th>City Name</th>\n",
              "      <th>Coordinates</th>\n",
              "    </tr>\n",
              "  </thead>\n",
              "  <tbody>\n",
              "    <tr>\n",
              "      <th>0</th>\n",
              "      <td>Most, okres Most, Ústecký kraj, Severozápad, Č...</td>\n",
              "      <td>(50.5032737, 13.636112)</td>\n",
              "    </tr>\n",
              "    <tr>\n",
              "      <th>1</th>\n",
              "      <td>Newark, Essex County, New Jersey, United States</td>\n",
              "      <td>(40.735657, -74.1723667)</td>\n",
              "    </tr>\n",
              "    <tr>\n",
              "      <th>2</th>\n",
              "      <td>Banbury, Cherwell, Oxfordshire, South East Eng...</td>\n",
              "      <td>(52.0601807, -1.3402795)</td>\n",
              "    </tr>\n",
              "    <tr>\n",
              "      <th>3</th>\n",
              "      <td>Oxford, Chester County, Pennsylvania, 19363, U...</td>\n",
              "      <td>(39.7852062, -75.9790215)</td>\n",
              "    </tr>\n",
              "    <tr>\n",
              "      <th>4</th>\n",
              "      <td>Smithfield, Johnston County, North Carolina, 2...</td>\n",
              "      <td>(35.5085531, -78.33936)</td>\n",
              "    </tr>\n",
              "    <tr>\n",
              "      <th>5</th>\n",
              "      <td>London, Greater London, England, United Kingdom</td>\n",
              "      <td>(51.5073219, -0.1276474)</td>\n",
              "    </tr>\n",
              "    <tr>\n",
              "      <th>6</th>\n",
              "      <td>Cambridge, Cambridgeshire, East of England, En...</td>\n",
              "      <td>(52.2034823, 0.1235817)</td>\n",
              "    </tr>\n",
              "  </tbody>\n",
              "</table>\n",
              "</div>"
            ],
            "text/plain": [
              "                                           City Name                Coordinates\n",
              "0  Most, okres Most, Ústecký kraj, Severozápad, Č...    (50.5032737, 13.636112)\n",
              "1    Newark, Essex County, New Jersey, United States   (40.735657, -74.1723667)\n",
              "2  Banbury, Cherwell, Oxfordshire, South East Eng...   (52.0601807, -1.3402795)\n",
              "3  Oxford, Chester County, Pennsylvania, 19363, U...  (39.7852062, -75.9790215)\n",
              "4  Smithfield, Johnston County, North Carolina, 2...    (35.5085531, -78.33936)\n",
              "5    London, Greater London, England, United Kingdom   (51.5073219, -0.1276474)\n",
              "6  Cambridge, Cambridgeshire, East of England, En...    (52.2034823, 0.1235817)"
            ]
          },
          "metadata": {
            "tags": []
          },
          "execution_count": 16
        }
      ]
    },
    {
      "cell_type": "code",
      "metadata": {
        "colab": {
          "base_uri": "https://localhost:8080/"
        },
        "id": "V5j17wURR1V7",
        "outputId": "e5a53ce9-451c-496d-dfaa-80fbc0c1dc2e"
      },
      "source": [
        "#Use Shapely to turn the data from Tuple into points\n",
        "geometry = [Point(x[1], x[0]) for x in df['Coordinates']]\n",
        "geometry[:7]"
      ],
      "execution_count": 17,
      "outputs": [
        {
          "output_type": "execute_result",
          "data": {
            "text/plain": [
              "[<shapely.geometry.point.Point at 0x7fa41bc1eb90>,\n",
              " <shapely.geometry.point.Point at 0x7fa41b6c7950>,\n",
              " <shapely.geometry.point.Point at 0x7fa41b6b3150>,\n",
              " <shapely.geometry.point.Point at 0x7fa41b6aa390>,\n",
              " <shapely.geometry.point.Point at 0x7fa41b6c7910>,\n",
              " <shapely.geometry.point.Point at 0x7fa41b6c7bd0>,\n",
              " <shapely.geometry.point.Point at 0x7fa41b6c78d0>]"
            ]
          },
          "metadata": {
            "tags": []
          },
          "execution_count": 17
        }
      ]
    },
    {
      "cell_type": "code",
      "metadata": {
        "colab": {
          "base_uri": "https://localhost:8080/",
          "height": 258
        },
        "id": "rfvqsGNJR_Oz",
        "outputId": "b0ae9be4-d20a-43d7-83c5-5cf913bbebf7"
      },
      "source": [
        "# Define the coordinate system\n",
        "crs = {'init': 'epsg:4326'}\n",
        "\n",
        "# convert df to geo df\n",
        "geo_df = gpd.GeoDataFrame(df, crs=crs, geometry=geometry)\n",
        "geo_df.head()"
      ],
      "execution_count": 19,
      "outputs": [
        {
          "output_type": "stream",
          "text": [
            "/usr/local/lib/python3.7/dist-packages/pyproj/crs/crs.py:68: FutureWarning: '+init=<authority>:<code>' syntax is deprecated. '<authority>:<code>' is the preferred initialization method. When making the change, be mindful of axis order changes: https://pyproj4.github.io/pyproj/stable/gotchas.html#axis-order-changes-in-proj-6\n",
            "  return _prepare_from_string(\" \".join(pjargs))\n"
          ],
          "name": "stderr"
        },
        {
          "output_type": "execute_result",
          "data": {
            "text/html": [
              "<div>\n",
              "<style scoped>\n",
              "    .dataframe tbody tr th:only-of-type {\n",
              "        vertical-align: middle;\n",
              "    }\n",
              "\n",
              "    .dataframe tbody tr th {\n",
              "        vertical-align: top;\n",
              "    }\n",
              "\n",
              "    .dataframe thead th {\n",
              "        text-align: right;\n",
              "    }\n",
              "</style>\n",
              "<table border=\"1\" class=\"dataframe\">\n",
              "  <thead>\n",
              "    <tr style=\"text-align: right;\">\n",
              "      <th></th>\n",
              "      <th>City Name</th>\n",
              "      <th>Coordinates</th>\n",
              "      <th>geometry</th>\n",
              "    </tr>\n",
              "  </thead>\n",
              "  <tbody>\n",
              "    <tr>\n",
              "      <th>0</th>\n",
              "      <td>Most, okres Most, Ústecký kraj, Severozápad, Č...</td>\n",
              "      <td>(50.5032737, 13.636112)</td>\n",
              "      <td>POINT (13.63611 50.50327)</td>\n",
              "    </tr>\n",
              "    <tr>\n",
              "      <th>1</th>\n",
              "      <td>Newark, Essex County, New Jersey, United States</td>\n",
              "      <td>(40.735657, -74.1723667)</td>\n",
              "      <td>POINT (-74.17237 40.73566)</td>\n",
              "    </tr>\n",
              "    <tr>\n",
              "      <th>2</th>\n",
              "      <td>Banbury, Cherwell, Oxfordshire, South East Eng...</td>\n",
              "      <td>(52.0601807, -1.3402795)</td>\n",
              "      <td>POINT (-1.34028 52.06018)</td>\n",
              "    </tr>\n",
              "    <tr>\n",
              "      <th>3</th>\n",
              "      <td>Oxford, Chester County, Pennsylvania, 19363, U...</td>\n",
              "      <td>(39.7852062, -75.9790215)</td>\n",
              "      <td>POINT (-75.97902 39.78521)</td>\n",
              "    </tr>\n",
              "    <tr>\n",
              "      <th>4</th>\n",
              "      <td>Smithfield, Johnston County, North Carolina, 2...</td>\n",
              "      <td>(35.5085531, -78.33936)</td>\n",
              "      <td>POINT (-78.33936 35.50855)</td>\n",
              "    </tr>\n",
              "  </tbody>\n",
              "</table>\n",
              "</div>"
            ],
            "text/plain": [
              "                                           City Name  ...                    geometry\n",
              "0  Most, okres Most, Ústecký kraj, Severozápad, Č...  ...   POINT (13.63611 50.50327)\n",
              "1    Newark, Essex County, New Jersey, United States  ...  POINT (-74.17237 40.73566)\n",
              "2  Banbury, Cherwell, Oxfordshire, South East Eng...  ...   POINT (-1.34028 52.06018)\n",
              "3  Oxford, Chester County, Pennsylvania, 19363, U...  ...  POINT (-75.97902 39.78521)\n",
              "4  Smithfield, Johnston County, North Carolina, 2...  ...  POINT (-78.33936 35.50855)\n",
              "\n",
              "[5 rows x 3 columns]"
            ]
          },
          "metadata": {
            "tags": []
          },
          "execution_count": 19
        }
      ]
    },
    {
      "cell_type": "code",
      "metadata": {
        "colab": {
          "base_uri": "https://localhost:8080/",
          "height": 339
        },
        "id": "x2L0PVQVSMZu",
        "outputId": "bd21d7db-7ea4-4dcf-9864-124b1024f9aa"
      },
      "source": [
        "#Import datavis libraries\n",
        "import matplotlib.pyplot as plt\n",
        "import seaborn as sns # used to set the style of the figures\n",
        "\n",
        "# Figures inline and set visualization style\n",
        "%matplotlib inline\n",
        "sns.set()\n",
        "\n",
        "# Create freq dist and plot\n",
        "freqdist1 = nltk.FreqDist(cities)\n",
        "freqdist1.plot(20) #specifying the top 20 results"
      ],
      "execution_count": 20,
      "outputs": [
        {
          "output_type": "display_data",
          "data": {
            "image/png": "[encoded data removed]",
            "text/plain": [
              "<Figure size 432x288 with 1 Axes>"
            ]
          },
          "metadata": {
            "tags": []
          }
        }
      ]
    },
    {
      "cell_type": "code",
      "metadata": {
        "id": "qpXOy2ICSW4_"
      },
      "source": [
        "#import required libraries, packages to make a folium map\n",
        "import folium\n",
        "from folium import plugins\n",
        "import json\n"
      ],
      "execution_count": 21,
      "outputs": []
    },
    {
      "cell_type": "code",
      "metadata": {
        "colab": {
          "base_uri": "https://localhost:8080/",
          "height": 769
        },
        "id": "ro4ybv1XRq38",
        "outputId": "7e8a7266-c92c-45dd-f32d-41d7122a54a5"
      },
      "source": [
        "# Converting geopandas dataframe to geojson so it can be plotted on a web map with folium.\n",
        "geo_df['geometry'].to_file(\"Gulliver.geojson\", driver='GeoJSON')\n",
        "\n",
        "# initialize the map at a global scale with a point midaway between U.S. and Europe as the center.\n",
        "SwiftMap = folium.Map(location=[32.826919, -41.225228], tiles='Stamen Terrain', zoom_start=2)\n",
        "\n",
        "folium.GeoJson(\"Gulliver.geojson\").add_to(SwiftMap)\n",
        "\n",
        "# Display map   \n",
        "SwiftMap"
      ],
      "execution_count": 26,
      "outputs": [
        {
          "output_type": "execute_result",
          "data": {
            "text/html": [
              "<div style=\"width:100%;\"><div style=\"position:relative;width:100%;height:0;padding-bottom:60%;\"><span style=\"color:#565656\">Make this Notebook Trusted to load map: File -> Trust Notebook</span><iframe src=\"about:blank\" style=\"position:absolute;width:100%;height:100%;left:0;top:0;border:none !important;\" data-html=%3C%21DOCTYPE%20html%3E%0A%3Chead%3E%20%20%20%20%0A%20%20%20%20%3Cmeta%20http-equiv%3D%22content-type%22%20content%3D%22text/html%3B%20charset%3DUTF-8%22%20/%3E%0A%20%20%20%20%3Cscript%3EL_PREFER_CANVAS%3Dfalse%3B%20L_NO_TOUCH%3Dfalse%3B%20L_DISABLE_3D%3Dfalse%3B%3C/script%3E%0A%20%20%20%20%3Cscript%20src%3D%22https%3A//cdn.jsdelivr.net/npm/leaflet%401.4.0/dist/leaflet.js%22%3E%3C/script%3E%0A%20%20%20%20%3Cscript%20src%3D%22https%3A//code.jquery.com/jquery-1.12.4.min.js%22%3E%3C/script%3E%0A%20%20%20%20%3Cscript%20src%3D%22https%3A//maxcdn.bootstrapcdn.com/bootstrap/3.2.0/js/bootstrap.min.js%22%3E%3C/script%3E%0A%20%20%20%20%3Cscript%20src%3D%22https%3A//cdnjs.cloudflare.com/ajax/libs/Leaflet.awesome-markers/2.0.2/leaflet.awesome-markers.js%22%3E%3C/script%3E%0A%20%20%20%20%3Clink%20rel%3D%22stylesheet%22%20href%3D%22https%3A//cdn.jsdelivr.net/npm/leaflet%401.4.0/dist/leaflet.css%22/%3E%0A%20%20%20%20%3Clink%20rel%3D%22stylesheet%22%20href%3D%22https%3A//maxcdn.bootstrapcdn.com/bootstrap/3.2.0/css/bootstrap.min.css%22/%3E%0A%20%20%20%20%3Clink%20rel%3D%22stylesheet%22%20href%3D%22https%3A//maxcdn.bootstrapcdn.com/bootstrap/3.2.0/css/bootstrap-theme.min.css%22/%3E%0A%20%20%20%20%3Clink%20rel%3D%22stylesheet%22%20href%3D%22https%3A//maxcdn.bootstrapcdn.com/font-awesome/4.6.3/css/font-awesome.min.css%22/%3E%0A%20%20%20%20%3Clink%20rel%3D%22stylesheet%22%20href%3D%22https%3A//cdnjs.cloudflare.com/ajax/libs/Leaflet.awesome-markers/2.0.2/leaflet.awesome-markers.css%22/%3E%0A%20%20%20%20%3Clink%20rel%3D%22stylesheet%22%20href%3D%22https%3A//rawcdn.githack.com/python-visualization/folium/master/folium/templates/leaflet.awesome.rotate.css%22/%3E%0A%20%20%20%20%3Cstyle%3Ehtml%2C%20body%20%7Bwidth%3A%20100%25%3Bheight%3A%20100%25%3Bmargin%3A%200%3Bpadding%3A%200%3B%7D%3C/style%3E%0A%20%20%20%20%3Cstyle%3E%23map%20%7Bposition%3Aabsolute%3Btop%3A0%3Bbottom%3A0%3Bright%3A0%3Bleft%3A0%3B%7D%3C/style%3E%0A%20%20%20%20%0A%20%20%20%20%3Cmeta%20name%3D%22viewport%22%20content%3D%22width%3Ddevice-width%2C%0A%20%20%20%20%20%20%20%20initial-scale%3D1.0%2C%20maximum-scale%3D1.0%2C%20user-scalable%3Dno%22%20/%3E%0A%20%20%20%20%3Cstyle%3E%23map_c33dde6bedff4591b54fc34a6e95d332%20%7B%0A%20%20%20%20%20%20%20%20position%3A%20relative%3B%0A%20%20%20%20%20%20%20%20width%3A%20100.0%25%3B%0A%20%20%20%20%20%20%20%20height%3A%20100.0%25%3B%0A%20%20%20%20%20%20%20%20left%3A%200.0%25%3B%0A%20%20%20%20%20%20%20%20top%3A%200.0%25%3B%0A%20%20%20%20%20%20%20%20%7D%0A%20%20%20%20%3C/style%3E%0A%3C/head%3E%0A%3Cbody%3E%20%20%20%20%0A%20%20%20%20%0A%20%20%20%20%3Cdiv%20class%3D%22folium-map%22%20id%3D%22map_c33dde6bedff4591b54fc34a6e95d332%22%20%3E%3C/div%3E%0A%3C/body%3E%0A%3Cscript%3E%20%20%20%20%0A%20%20%20%20%0A%20%20%20%20%0A%20%20%20%20%20%20%20%20var%20bounds%20%3D%20null%3B%0A%20%20%20%20%0A%0A%20%20%20%20var%20map_c33dde6bedff4591b54fc34a6e95d332%20%3D%20L.map%28%0A%20%20%20%20%20%20%20%20%27map_c33dde6bedff4591b54fc34a6e95d332%27%2C%20%7B%0A%20%20%20%20%20%20%20%20center%3A%20%5B32.826919%2C%20-41.225228%5D%2C%0A%20%20%20%20%20%20%20%20zoom%3A%202%2C%0A%20%20%20%20%20%20%20%20maxBounds%3A%20bounds%2C%0A%20%20%20%20%20%20%20%20layers%3A%20%5B%5D%2C%0A%20%20%20%20%20%20%20%20worldCopyJump%3A%20false%2C%0A%20%20%20%20%20%20%20%20crs%3A%20L.CRS.EPSG3857%2C%0A%20%20%20%20%20%20%20%20zoomControl%3A%20true%2C%0A%20%20%20%20%20%20%20%20%7D%29%3B%0A%0A%0A%20%20%20%20%0A%20%20%20%20var%20tile_layer_1c48efbd0f8e4883a346d37935a20ea8%20%3D%20L.tileLayer%28%0A%20%20%20%20%20%20%20%20%27https%3A//stamen-tiles-%7Bs%7D.a.ssl.fastly.net/terrain/%7Bz%7D/%7Bx%7D/%7By%7D.jpg%27%2C%0A%20%20%20%20%20%20%20%20%7B%0A%20%20%20%20%20%20%20%20%22attribution%22%3A%20null%2C%0A%20%20%20%20%20%20%20%20%22detectRetina%22%3A%20false%2C%0A%20%20%20%20%20%20%20%20%22maxNativeZoom%22%3A%2018%2C%0A%20%20%20%20%20%20%20%20%22maxZoom%22%3A%2018%2C%0A%20%20%20%20%20%20%20%20%22minZoom%22%3A%200%2C%0A%20%20%20%20%20%20%20%20%22noWrap%22%3A%20false%2C%0A%20%20%20%20%20%20%20%20%22opacity%22%3A%201%2C%0A%20%20%20%20%20%20%20%20%22subdomains%22%3A%20%22abc%22%2C%0A%20%20%20%20%20%20%20%20%22tms%22%3A%20false%0A%7D%29.addTo%28map_c33dde6bedff4591b54fc34a6e95d332%29%3B%0A%20%20%20%20%0A%20%20%20%20%20%20%20%20var%20geo_json_92efb9a0590e4fa68987180e19567788%20%3D%20L.geoJson%28%0A%20%20%20%20%20%20%20%20%20%20%20%20%7B%22features%22%3A%20%5B%7B%22geometry%22%3A%20%7B%22coordinates%22%3A%20%5B13.636112%2C%2050.5032737%5D%2C%20%22type%22%3A%20%22Point%22%7D%2C%20%22properties%22%3A%20%7B%22highlight%22%3A%20%7B%7D%2C%20%22style%22%3A%20%7B%7D%7D%2C%20%22type%22%3A%20%22Feature%22%7D%2C%20%7B%22geometry%22%3A%20%7B%22coordinates%22%3A%20%5B-74.1723667%2C%2040.735657%5D%2C%20%22type%22%3A%20%22Point%22%7D%2C%20%22properties%22%3A%20%7B%22highlight%22%3A%20%7B%7D%2C%20%22style%22%3A%20%7B%7D%7D%2C%20%22type%22%3A%20%22Feature%22%7D%2C%20%7B%22geometry%22%3A%20%7B%22coordinates%22%3A%20%5B-1.3402795%2C%2052.0601807%5D%2C%20%22type%22%3A%20%22Point%22%7D%2C%20%22properties%22%3A%20%7B%22highlight%22%3A%20%7B%7D%2C%20%22style%22%3A%20%7B%7D%7D%2C%20%22type%22%3A%20%22Feature%22%7D%2C%20%7B%22geometry%22%3A%20%7B%22coordinates%22%3A%20%5B-75.9790215%2C%2039.7852062%5D%2C%20%22type%22%3A%20%22Point%22%7D%2C%20%22properties%22%3A%20%7B%22highlight%22%3A%20%7B%7D%2C%20%22style%22%3A%20%7B%7D%7D%2C%20%22type%22%3A%20%22Feature%22%7D%2C%20%7B%22geometry%22%3A%20%7B%22coordinates%22%3A%20%5B-78.33936%2C%2035.5085531%5D%2C%20%22type%22%3A%20%22Point%22%7D%2C%20%22properties%22%3A%20%7B%22highlight%22%3A%20%7B%7D%2C%20%22style%22%3A%20%7B%7D%7D%2C%20%22type%22%3A%20%22Feature%22%7D%2C%20%7B%22geometry%22%3A%20%7B%22coordinates%22%3A%20%5B-0.1276474%2C%2051.5073219%5D%2C%20%22type%22%3A%20%22Point%22%7D%2C%20%22properties%22%3A%20%7B%22highlight%22%3A%20%7B%7D%2C%20%22style%22%3A%20%7B%7D%7D%2C%20%22type%22%3A%20%22Feature%22%7D%2C%20%7B%22geometry%22%3A%20%7B%22coordinates%22%3A%20%5B0.1235817%2C%2052.2034823%5D%2C%20%22type%22%3A%20%22Point%22%7D%2C%20%22properties%22%3A%20%7B%22highlight%22%3A%20%7B%7D%2C%20%22style%22%3A%20%7B%7D%7D%2C%20%22type%22%3A%20%22Feature%22%7D%2C%20%7B%22geometry%22%3A%20%7B%22coordinates%22%3A%20%5B-0.1276474%2C%2051.5073219%5D%2C%20%22type%22%3A%20%22Point%22%7D%2C%20%22properties%22%3A%20%7B%22highlight%22%3A%20%7B%7D%2C%20%22style%22%3A%20%7B%7D%7D%2C%20%22type%22%3A%20%22Feature%22%7D%2C%20%7B%22geometry%22%3A%20%7B%22coordinates%22%3A%20%5B-0.1276474%2C%2051.5073219%5D%2C%20%22type%22%3A%20%22Point%22%7D%2C%20%22properties%22%3A%20%7B%22highlight%22%3A%20%7B%7D%2C%20%22style%22%3A%20%7B%7D%7D%2C%20%22type%22%3A%20%22Feature%22%7D%2C%20%7B%22geometry%22%3A%20%7B%22coordinates%22%3A%20%5B-88.0788889%2C%2030.7387998%5D%2C%20%22type%22%3A%20%22Point%22%7D%2C%20%22properties%22%3A%20%7B%22highlight%22%3A%20%7B%7D%2C%20%22style%22%3A%20%7B%7D%7D%2C%20%22type%22%3A%20%22Feature%22%7D%2C%20%7B%22geometry%22%3A%20%7B%22coordinates%22%3A%20%5B-98.0716943%2C%2042.1864809%5D%2C%20%22type%22%3A%20%22Point%22%7D%2C%20%22properties%22%3A%20%7B%22highlight%22%3A%20%7B%7D%2C%20%22style%22%3A%20%7B%7D%7D%2C%20%22type%22%3A%20%22Feature%22%7D%2C%20%7B%22geometry%22%3A%20%7B%22coordinates%22%3A%20%5B-2.5972985%2C%2051.4538022%5D%2C%20%22type%22%3A%20%22Point%22%7D%2C%20%22properties%22%3A%20%7B%22highlight%22%3A%20%7B%7D%2C%20%22style%22%3A%20%7B%7D%7D%2C%20%22type%22%3A%20%22Feature%22%7D%2C%20%7B%22geometry%22%3A%20%7B%22coordinates%22%3A%20%5B40.27544376928809%2C%2040.8817359%5D%2C%20%22type%22%3A%20%22Point%22%7D%2C%20%22properties%22%3A%20%7B%22highlight%22%3A%20%7B%7D%2C%20%22style%22%3A%20%7B%7D%7D%2C%20%22type%22%3A%20%22Feature%22%7D%2C%20%7B%22geometry%22%3A%20%7B%22coordinates%22%3A%20%5B40.27544376928809%2C%2040.8817359%5D%2C%20%22type%22%3A%20%22Point%22%7D%2C%20%22properties%22%3A%20%7B%22highlight%22%3A%20%7B%7D%2C%20%22style%22%3A%20%7B%7D%7D%2C%20%22type%22%3A%20%22Feature%22%7D%2C%20%7B%22geometry%22%3A%20%7B%22coordinates%22%3A%20%5B40.27544376928809%2C%2040.8817359%5D%2C%20%22type%22%3A%20%22Point%22%7D%2C%20%22properties%22%3A%20%7B%22highlight%22%3A%20%7B%7D%2C%20%22style%22%3A%20%7B%7D%7D%2C%20%22type%22%3A%20%22Feature%22%7D%2C%20%7B%22geometry%22%3A%20%7B%22coordinates%22%3A%20%5B-71.4128343%2C%2041.8239891%5D%2C%20%22type%22%3A%20%22Point%22%7D%2C%20%22properties%22%3A%20%7B%22highlight%22%3A%20%7B%7D%2C%20%22style%22%3A%20%7B%7D%7D%2C%20%22type%22%3A%20%22Feature%22%7D%2C%20%7B%22geometry%22%3A%20%7B%22coordinates%22%3A%20%5B-71.4128343%2C%2041.8239891%5D%2C%20%22type%22%3A%20%22Point%22%7D%2C%20%22properties%22%3A%20%7B%22highlight%22%3A%20%7B%7D%2C%20%22style%22%3A%20%7B%7D%7D%2C%20%22type%22%3A%20%22Feature%22%7D%2C%20%7B%22geometry%22%3A%20%7B%22coordinates%22%3A%20%5B40.27544376928809%2C%2040.8817359%5D%2C%20%22type%22%3A%20%22Point%22%7D%2C%20%22properties%22%3A%20%7B%22highlight%22%3A%20%7B%7D%2C%20%22style%22%3A%20%7B%7D%7D%2C%20%22type%22%3A%20%22Feature%22%7D%2C%20%7B%22geometry%22%3A%20%7B%22coordinates%22%3A%20%5B108.4265113%2C%2013.2904027%5D%2C%20%22type%22%3A%20%22Point%22%7D%2C%20%22properties%22%3A%20%7B%22highlight%22%3A%20%7B%7D%2C%20%22style%22%3A%20%7B%7D%7D%2C%20%22type%22%3A%20%22Feature%22%7D%2C%20%7B%22geometry%22%3A%20%7B%22coordinates%22%3A%20%5B4.984282926187014%2C%2052.3350493%5D%2C%20%22type%22%3A%20%22Point%22%7D%2C%20%22properties%22%3A%20%7B%22highlight%22%3A%20%7B%7D%2C%20%22style%22%3A%20%7B%7D%7D%2C%20%22type%22%3A%20%22Feature%22%7D%2C%20%7B%22geometry%22%3A%20%7B%22coordinates%22%3A%20%5B7.3162243%2C%2049.1129518%5D%2C%20%22type%22%3A%20%22Point%22%7D%2C%20%22properties%22%3A%20%7B%22highlight%22%3A%20%7B%7D%2C%20%22style%22%3A%20%7B%7D%7D%2C%20%22type%22%3A%20%22Feature%22%7D%2C%20%7B%22geometry%22%3A%20%7B%22coordinates%22%3A%20%5B-2.99168%2C%2053.4071991%5D%2C%20%22type%22%3A%20%22Point%22%7D%2C%20%22properties%22%3A%20%7B%22highlight%22%3A%20%7B%7D%2C%20%22style%22%3A%20%7B%7D%7D%2C%20%22type%22%3A%20%22Feature%22%7D%2C%20%7B%22geometry%22%3A%20%7B%22coordinates%22%3A%20%5B7.7790038%2C%2048.0578573%5D%2C%20%22type%22%3A%20%22Point%22%7D%2C%20%22properties%22%3A%20%7B%22highlight%22%3A%20%7B%7D%2C%20%22style%22%3A%20%7B%7D%7D%2C%20%22type%22%3A%20%22Feature%22%7D%2C%20%7B%22geometry%22%3A%20%7B%22coordinates%22%3A%20%5B-0.1687007%2C%2051.4875167%5D%2C%20%22type%22%3A%20%22Point%22%7D%2C%20%22properties%22%3A%20%7B%22highlight%22%3A%20%7B%7D%2C%20%22style%22%3A%20%7B%7D%7D%2C%20%22type%22%3A%20%22Feature%22%7D%2C%20%7B%22geometry%22%3A%20%7B%22coordinates%22%3A%20%5B-0.1276474%2C%2051.5073219%5D%2C%20%22type%22%3A%20%22Point%22%7D%2C%20%22properties%22%3A%20%7B%22highlight%22%3A%20%7B%7D%2C%20%22style%22%3A%20%7B%7D%7D%2C%20%22type%22%3A%20%22Feature%22%7D%2C%20%7B%22geometry%22%3A%20%7B%22coordinates%22%3A%20%5B-0.1276474%2C%2051.5073219%5D%2C%20%22type%22%3A%20%22Point%22%7D%2C%20%22properties%22%3A%20%7B%22highlight%22%3A%20%7B%7D%2C%20%22style%22%3A%20%7B%7D%7D%2C%20%22type%22%3A%20%22Feature%22%7D%2C%20%7B%22geometry%22%3A%20%7B%22coordinates%22%3A%20%5B-0.1276474%2C%2051.5073219%5D%2C%20%22type%22%3A%20%22Point%22%7D%2C%20%22properties%22%3A%20%7B%22highlight%22%3A%20%7B%7D%2C%20%22style%22%3A%20%7B%7D%7D%2C%20%22type%22%3A%20%22Feature%22%7D%2C%20%7B%22geometry%22%3A%20%7B%22coordinates%22%3A%20%5B-0.5209341%2C%2051.8861316%5D%2C%20%22type%22%3A%20%22Point%22%7D%2C%20%22properties%22%3A%20%7B%22highlight%22%3A%20%7B%7D%2C%20%22style%22%3A%20%7B%7D%7D%2C%20%22type%22%3A%20%22Feature%22%7D%2C%20%7B%22geometry%22%3A%20%7B%22coordinates%22%3A%20%5B-122.4309766%2C%2045.4997475%5D%2C%20%22type%22%3A%20%22Point%22%7D%2C%20%22properties%22%3A%20%7B%22highlight%22%3A%20%7B%7D%2C%20%22style%22%3A%20%7B%7D%7D%2C%20%22type%22%3A%20%22Feature%22%7D%2C%20%7B%22geometry%22%3A%20%7B%22coordinates%22%3A%20%5B-1.7954134%2C%2051.0690613%5D%2C%20%22type%22%3A%20%22Point%22%7D%2C%20%22properties%22%3A%20%7B%22highlight%22%3A%20%7B%7D%2C%20%22style%22%3A%20%7B%7D%7D%2C%20%22type%22%3A%20%22Feature%22%7D%2C%20%7B%22geometry%22%3A%20%7B%22coordinates%22%3A%20%5B-2.5972985%2C%2051.4538022%5D%2C%20%22type%22%3A%20%22Point%22%7D%2C%20%22properties%22%3A%20%7B%22highlight%22%3A%20%7B%7D%2C%20%22style%22%3A%20%7B%7D%7D%2C%20%22type%22%3A%20%22Feature%22%7D%2C%20%7B%22geometry%22%3A%20%7B%22coordinates%22%3A%20%5B2.1266886%2C%2048.8035403%5D%2C%20%22type%22%3A%20%22Point%22%7D%2C%20%22properties%22%3A%20%7B%22highlight%22%3A%20%7B%7D%2C%20%22style%22%3A%20%7B%7D%7D%2C%20%22type%22%3A%20%22Feature%22%7D%2C%20%7B%22geometry%22%3A%20%7B%22coordinates%22%3A%20%5B40.27544376928809%2C%2040.8817359%5D%2C%20%22type%22%3A%20%22Point%22%7D%2C%20%22properties%22%3A%20%7B%22highlight%22%3A%20%7B%7D%2C%20%22style%22%3A%20%7B%7D%7D%2C%20%22type%22%3A%20%22Feature%22%7D%2C%20%7B%22geometry%22%3A%20%7B%22coordinates%22%3A%20%5B-87.7540199%2C%2041.8455398%5D%2C%20%22type%22%3A%20%22Point%22%7D%2C%20%22properties%22%3A%20%7B%22highlight%22%3A%20%7B%7D%2C%20%22style%22%3A%20%7B%7D%7D%2C%20%22type%22%3A%20%22Feature%22%7D%2C%20%7B%22geometry%22%3A%20%7B%22coordinates%22%3A%20%5B12.3345898%2C%2045.4371908%5D%2C%20%22type%22%3A%20%22Point%22%7D%2C%20%22properties%22%3A%20%7B%22highlight%22%3A%20%7B%7D%2C%20%22style%22%3A%20%7B%7D%7D%2C%20%22type%22%3A%20%22Feature%22%7D%2C%20%7B%22geometry%22%3A%20%7B%22coordinates%22%3A%20%5B-77.2872001%2C%2037.3043154%5D%2C%20%22type%22%3A%20%22Point%22%7D%2C%20%22properties%22%3A%20%7B%22highlight%22%3A%20%7B%7D%2C%20%22style%22%3A%20%7B%7D%7D%2C%20%22type%22%3A%20%22Feature%22%7D%2C%20%7B%22geometry%22%3A%20%7B%22coordinates%22%3A%20%5B22.459722%2C%20-33.964444%5D%2C%20%22type%22%3A%20%22Point%22%7D%2C%20%22properties%22%3A%20%7B%22highlight%22%3A%20%7B%7D%2C%20%22style%22%3A%20%7B%7D%7D%2C%20%22type%22%3A%20%22Feature%22%7D%2C%20%7B%22geometry%22%3A%20%7B%22coordinates%22%3A%20%5B40.27544376928809%2C%2040.8817359%5D%2C%20%22type%22%3A%20%22Point%22%7D%2C%20%22properties%22%3A%20%7B%22highlight%22%3A%20%7B%7D%2C%20%22style%22%3A%20%7B%7D%7D%2C%20%22type%22%3A%20%22Feature%22%7D%2C%20%7B%22geometry%22%3A%20%7B%22coordinates%22%3A%20%5B13.636112%2C%2050.5032737%5D%2C%20%22type%22%3A%20%22Point%22%7D%2C%20%22properties%22%3A%20%7B%22highlight%22%3A%20%7B%7D%2C%20%22style%22%3A%20%7B%7D%7D%2C%20%22type%22%3A%20%22Feature%22%7D%2C%20%7B%22geometry%22%3A%20%7B%22coordinates%22%3A%20%5B40.27544376928809%2C%2040.8817359%5D%2C%20%22type%22%3A%20%22Point%22%7D%2C%20%22properties%22%3A%20%7B%22highlight%22%3A%20%7B%7D%2C%20%22style%22%3A%20%7B%7D%7D%2C%20%22type%22%3A%20%22Feature%22%7D%2C%20%7B%22geometry%22%3A%20%7B%22coordinates%22%3A%20%5B-0.1276474%2C%2051.5073219%5D%2C%20%22type%22%3A%20%22Point%22%7D%2C%20%22properties%22%3A%20%7B%22highlight%22%3A%20%7B%7D%2C%20%22style%22%3A%20%7B%7D%7D%2C%20%22type%22%3A%20%22Feature%22%7D%2C%20%7B%22geometry%22%3A%20%7B%22coordinates%22%3A%20%5B-2.5972985%2C%2051.4538022%5D%2C%20%22type%22%3A%20%22Point%22%7D%2C%20%22properties%22%3A%20%7B%22highlight%22%3A%20%7B%7D%2C%20%22style%22%3A%20%7B%7D%7D%2C%20%22type%22%3A%20%22Feature%22%7D%2C%20%7B%22geometry%22%3A%20%7B%22coordinates%22%3A%20%5B-1.075614%2C%2050.8036831%5D%2C%20%22type%22%3A%20%22Point%22%7D%2C%20%22properties%22%3A%20%7B%22highlight%22%3A%20%7B%7D%2C%20%22style%22%3A%20%7B%7D%7D%2C%20%22type%22%3A%20%22Feature%22%7D%2C%20%7B%22geometry%22%3A%20%7B%22coordinates%22%3A%20%5B-91.3587413%2C%2039.7082498%5D%2C%20%22type%22%3A%20%22Point%22%7D%2C%20%22properties%22%3A%20%7B%22highlight%22%3A%20%7B%7D%2C%20%22style%22%3A%20%7B%7D%7D%2C%20%22type%22%3A%20%22Feature%22%7D%2C%20%7B%22geometry%22%3A%20%7B%22coordinates%22%3A%20%5B12.4829321%2C%2041.8933203%5D%2C%20%22type%22%3A%20%22Point%22%7D%2C%20%22properties%22%3A%20%7B%22highlight%22%3A%20%7B%7D%2C%20%22style%22%3A%20%7B%7D%7D%2C%20%22type%22%3A%20%22Feature%22%7D%2C%20%7B%22geometry%22%3A%20%7B%22coordinates%22%3A%20%5B1.047626206618487%2C%2048.8362976%5D%2C%20%22type%22%3A%20%22Point%22%7D%2C%20%22properties%22%3A%20%7B%22highlight%22%3A%20%7B%7D%2C%20%22style%22%3A%20%7B%7D%7D%2C%20%22type%22%3A%20%22Feature%22%7D%2C%20%7B%22geometry%22%3A%20%7B%22coordinates%22%3A%20%5B1.047626206618487%2C%2048.8362976%5D%2C%20%22type%22%3A%20%22Point%22%7D%2C%20%22properties%22%3A%20%7B%22highlight%22%3A%20%7B%7D%2C%20%22style%22%3A%20%7B%7D%7D%2C%20%22type%22%3A%20%22Feature%22%7D%2C%20%7B%22geometry%22%3A%20%7B%22coordinates%22%3A%20%5B2.2959423%2C%2048.753554%5D%2C%20%22type%22%3A%20%22Point%22%7D%2C%20%22properties%22%3A%20%7B%22highlight%22%3A%20%7B%7D%2C%20%22style%22%3A%20%7B%7D%7D%2C%20%22type%22%3A%20%22Feature%22%7D%2C%20%7B%22geometry%22%3A%20%7B%22coordinates%22%3A%20%5B12.4829321%2C%2041.8933203%5D%2C%20%22type%22%3A%20%22Point%22%7D%2C%20%22properties%22%3A%20%7B%22highlight%22%3A%20%7B%7D%2C%20%22style%22%3A%20%7B%7D%7D%2C%20%22type%22%3A%20%22Feature%22%7D%2C%20%7B%22geometry%22%3A%20%7B%22coordinates%22%3A%20%5B12.4829321%2C%2041.8933203%5D%2C%20%22type%22%3A%20%22Point%22%7D%2C%20%22properties%22%3A%20%7B%22highlight%22%3A%20%7B%7D%2C%20%22style%22%3A%20%7B%7D%7D%2C%20%22type%22%3A%20%22Feature%22%7D%2C%20%7B%22geometry%22%3A%20%7B%22coordinates%22%3A%20%5B4.8936041%2C%2052.3727598%5D%2C%20%22type%22%3A%20%22Point%22%7D%2C%20%22properties%22%3A%20%7B%22highlight%22%3A%20%7B%7D%2C%20%22style%22%3A%20%7B%7D%7D%2C%20%22type%22%3A%20%22Feature%22%7D%2C%20%7B%22geometry%22%3A%20%7B%22coordinates%22%3A%20%5B4.8936041%2C%2052.3727598%5D%2C%20%22type%22%3A%20%22Point%22%7D%2C%20%22properties%22%3A%20%7B%22highlight%22%3A%20%7B%7D%2C%20%22style%22%3A%20%7B%7D%7D%2C%20%22type%22%3A%20%22Feature%22%7D%2C%20%7B%22geometry%22%3A%20%7B%22coordinates%22%3A%20%5B4.8936041%2C%2052.3727598%5D%2C%20%22type%22%3A%20%22Point%22%7D%2C%20%22properties%22%3A%20%7B%22highlight%22%3A%20%7B%7D%2C%20%22style%22%3A%20%7B%7D%7D%2C%20%22type%22%3A%20%22Feature%22%7D%2C%20%7B%22geometry%22%3A%20%7B%22coordinates%22%3A%20%5B5.7480821%2C%2052.5001698%5D%2C%20%22type%22%3A%20%22Point%22%7D%2C%20%22properties%22%3A%20%7B%22highlight%22%3A%20%7B%7D%2C%20%22style%22%3A%20%7B%7D%7D%2C%20%22type%22%3A%20%22Feature%22%7D%2C%20%7B%22geometry%22%3A%20%7B%22coordinates%22%3A%20%5B5.7480821%2C%2052.5001698%5D%2C%20%22type%22%3A%20%22Point%22%7D%2C%20%22properties%22%3A%20%7B%22highlight%22%3A%20%7B%7D%2C%20%22style%22%3A%20%7B%7D%7D%2C%20%22type%22%3A%20%22Feature%22%7D%2C%20%7B%22geometry%22%3A%20%7B%22coordinates%22%3A%20%5B5.7480821%2C%2052.5001698%5D%2C%20%22type%22%3A%20%22Point%22%7D%2C%20%22properties%22%3A%20%7B%22highlight%22%3A%20%7B%7D%2C%20%22style%22%3A%20%7B%7D%7D%2C%20%22type%22%3A%20%22Feature%22%7D%2C%20%7B%22geometry%22%3A%20%7B%22coordinates%22%3A%20%5B4.8936041%2C%2052.3727598%5D%2C%20%22type%22%3A%20%22Point%22%7D%2C%20%22properties%22%3A%20%7B%22highlight%22%3A%20%7B%7D%2C%20%22style%22%3A%20%7B%7D%7D%2C%20%22type%22%3A%20%22Feature%22%7D%2C%20%7B%22geometry%22%3A%20%7B%22coordinates%22%3A%20%5B4.8936041%2C%2052.3727598%5D%2C%20%22type%22%3A%20%22Point%22%7D%2C%20%22properties%22%3A%20%7B%22highlight%22%3A%20%7B%7D%2C%20%22style%22%3A%20%7B%7D%7D%2C%20%22type%22%3A%20%22Feature%22%7D%2C%20%7B%22geometry%22%3A%20%7B%22coordinates%22%3A%20%5B-1.075614%2C%2050.8036831%5D%2C%20%22type%22%3A%20%22Point%22%7D%2C%20%22properties%22%3A%20%7B%22highlight%22%3A%20%7B%7D%2C%20%22style%22%3A%20%7B%7D%7D%2C%20%22type%22%3A%20%22Feature%22%7D%2C%20%7B%22geometry%22%3A%20%7B%22coordinates%22%3A%20%5B-2.5972985%2C%2051.4538022%5D%2C%20%22type%22%3A%20%22Point%22%7D%2C%20%22properties%22%3A%20%7B%22highlight%22%3A%20%7B%7D%2C%20%22style%22%3A%20%7B%7D%7D%2C%20%22type%22%3A%20%22Feature%22%7D%2C%20%7B%22geometry%22%3A%20%7B%22coordinates%22%3A%20%5B-117.8704931%2C%2033.7500378%5D%2C%20%22type%22%3A%20%22Point%22%7D%2C%20%22properties%22%3A%20%7B%22highlight%22%3A%20%7B%7D%2C%20%22style%22%3A%20%7B%7D%7D%2C%20%22type%22%3A%20%22Feature%22%7D%2C%20%7B%22geometry%22%3A%20%7B%22coordinates%22%3A%20%5B-102.8707145%2C%2042.0971897%5D%2C%20%22type%22%3A%20%22Point%22%7D%2C%20%22properties%22%3A%20%7B%22highlight%22%3A%20%7B%7D%2C%20%22style%22%3A%20%7B%7D%7D%2C%20%22type%22%3A%20%22Feature%22%7D%2C%20%7B%22geometry%22%3A%20%7B%22coordinates%22%3A%20%5B40.27544376928809%2C%2040.8817359%5D%2C%20%22type%22%3A%20%22Point%22%7D%2C%20%22properties%22%3A%20%7B%22highlight%22%3A%20%7B%7D%2C%20%22style%22%3A%20%7B%7D%7D%2C%20%22type%22%3A%20%22Feature%22%7D%2C%20%7B%22geometry%22%3A%20%7B%22coordinates%22%3A%20%5B-9.1365919%2C%2038.7077507%5D%2C%20%22type%22%3A%20%22Point%22%7D%2C%20%22properties%22%3A%20%7B%22highlight%22%3A%20%7B%7D%2C%20%22style%22%3A%20%7B%7D%7D%2C%20%22type%22%3A%20%22Feature%22%7D%2C%20%7B%22geometry%22%3A%20%7B%22coordinates%22%3A%20%5B-9.1365919%2C%2038.7077507%5D%2C%20%22type%22%3A%20%22Point%22%7D%2C%20%22properties%22%3A%20%7B%22highlight%22%3A%20%7B%7D%2C%20%22style%22%3A%20%7B%7D%7D%2C%20%22type%22%3A%20%22Feature%22%7D%2C%20%7B%22geometry%22%3A%20%7B%22coordinates%22%3A%20%5B-9.1365919%2C%2038.7077507%5D%2C%20%22type%22%3A%20%22Point%22%7D%2C%20%22properties%22%3A%20%7B%22highlight%22%3A%20%7B%7D%2C%20%22style%22%3A%20%7B%7D%7D%2C%20%22type%22%3A%20%22Feature%22%7D%2C%20%7B%22geometry%22%3A%20%7B%22coordinates%22%3A%20%5B-9.1365919%2C%2038.7077507%5D%2C%20%22type%22%3A%20%22Point%22%7D%2C%20%22properties%22%3A%20%7B%22highlight%22%3A%20%7B%7D%2C%20%22style%22%3A%20%7B%7D%7D%2C%20%22type%22%3A%20%22Feature%22%7D%2C%20%7B%22geometry%22%3A%20%7B%22coordinates%22%3A%20%5B-0.1276474%2C%2051.5073219%5D%2C%20%22type%22%3A%20%22Point%22%7D%2C%20%22properties%22%3A%20%7B%22highlight%22%3A%20%7B%7D%2C%20%22style%22%3A%20%7B%7D%7D%2C%20%22type%22%3A%20%22Feature%22%7D%2C%20%7B%22geometry%22%3A%20%7B%22coordinates%22%3A%20%5B40.27544376928809%2C%2040.8817359%5D%2C%20%22type%22%3A%20%22Point%22%7D%2C%20%22properties%22%3A%20%7B%22highlight%22%3A%20%7B%7D%2C%20%22style%22%3A%20%7B%7D%7D%2C%20%22type%22%3A%20%22Feature%22%7D%2C%20%7B%22geometry%22%3A%20%7B%22coordinates%22%3A%20%5B-98.3252932%2C%2026.2159066%5D%2C%20%22type%22%3A%20%22Point%22%7D%2C%20%22properties%22%3A%20%7B%22highlight%22%3A%20%7B%7D%2C%20%22style%22%3A%20%7B%7D%7D%2C%20%22type%22%3A%20%22Feature%22%7D%2C%20%7B%22geometry%22%3A%20%7B%22coordinates%22%3A%20%5B-111.9103124%2C%2040.6632297%5D%2C%20%22type%22%3A%20%22Point%22%7D%2C%20%22properties%22%3A%20%7B%22highlight%22%3A%20%7B%7D%2C%20%22style%22%3A%20%7B%7D%7D%2C%20%22type%22%3A%20%22Feature%22%7D%2C%20%7B%22geometry%22%3A%20%7B%22coordinates%22%3A%20%5B13.636112%2C%2050.5032737%5D%2C%20%22type%22%3A%20%22Point%22%7D%2C%20%22properties%22%3A%20%7B%22highlight%22%3A%20%7B%7D%2C%20%22style%22%3A%20%7B%7D%7D%2C%20%22type%22%3A%20%22Feature%22%7D%5D%2C%20%22type%22%3A%20%22FeatureCollection%22%7D%2C%0A%20%20%20%20%20%20%20%20%20%20%20%20%7B%0A%20%20%20%20%20%20%20%20%20%20%20%20%7D%0A%20%20%20%20%20%20%20%20%29.addTo%28map_c33dde6bedff4591b54fc34a6e95d332%20%29%3B%0A%20%20%20%20%20%20%20%20geo_json_92efb9a0590e4fa68987180e19567788.setStyle%28function%28feature%29%20%7Breturn%20feature.properties.style%3B%7D%29%3B%0A%20%20%20%20%20%20%20%20%0A%3C/script%3E onload=\"this.contentDocument.open();this.contentDocument.write(    decodeURIComponent(this.getAttribute('data-html')));this.contentDocument.close();\" allowfullscreen webkitallowfullscreen mozallowfullscreen></iframe></div></div>"
            ],
            "text/plain": [
              "<folium.folium.Map at 0x7fa41a029790>"
            ]
          },
          "metadata": {
            "tags": []
          },
          "execution_count": 26
        }
      ]
    }
  ]
}